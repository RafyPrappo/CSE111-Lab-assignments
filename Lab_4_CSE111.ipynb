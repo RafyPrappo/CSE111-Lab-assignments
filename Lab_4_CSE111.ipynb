{
  "nbformat": 4,
  "nbformat_minor": 0,
  "metadata": {
    "colab": {
      "provenance": [],
      "authorship_tag": "ABX9TyN+UwznSEvFKQtCvi0Bh0h+",
      "include_colab_link": true
    },
    "kernelspec": {
      "name": "python3",
      "display_name": "Python 3"
    },
    "language_info": {
      "name": "python"
    }
  },
  "cells": [
    {
      "cell_type": "markdown",
      "metadata": {
        "id": "view-in-github",
        "colab_type": "text"
      },
      "source": [
        "<a href=\"https://colab.research.google.com/github/RafyPrappo/CSE111-Lab-assignments/blob/main/Lab_4_CSE111.ipynb\" target=\"_parent\"><img src=\"https://colab.research.google.com/assets/colab-badge.svg\" alt=\"Open In Colab\"/></a>"
      ]
    },
    {
      "cell_type": "code",
      "execution_count": null,
      "metadata": {
        "colab": {
          "base_uri": "https://localhost:8080/"
        },
        "id": "ibXHbwfXXoAi",
        "outputId": "db0c3bb4-f54c-4dfd-9b1d-c23aa3335fd1"
      },
      "outputs": [
        {
          "output_type": "stream",
          "name": "stdout",
          "text": [
            "Hello!\n",
            "Sam you purchased 3 item(s):\n",
            "chips\n",
            "chocolate\n",
            "orange juice\n",
            "-----------------------------\n",
            "Hello David!\n",
            "David you purchased 1 item(s):\n",
            "orange juice\n"
          ]
        }
      ],
      "source": [
        " #Task 1\n",
        "class Customer:\n",
        "  def __init__(self,name):\n",
        "    self.name = name\n",
        "  def purchase(self,*items):\n",
        "    self.num = len(items)\n",
        "    print(f'{self.name} you purchased {self.num} item(s):')\n",
        "    for a in items:\n",
        "      print(a)\n",
        "  def greet(self,*args):\n",
        "    k = ''\n",
        "    for a in args:\n",
        "      k = a\n",
        "    if len(k)>0:\n",
        "      print(f'Hello {k}!')\n",
        "    else:\n",
        "      print('Hello!')\n",
        "\n",
        "customer_1 = Customer(\"Sam\")\n",
        "customer_1.greet()\n",
        "customer_1.purchase(\"chips\", \"chocolate\", \"orange juice\")\n",
        "print('-----------------------------')\n",
        "customer_2 = Customer(\"David\")\n",
        "customer_2.greet(\"David\")\n",
        "customer_2.purchase(\"orange juice\")"
      ]
    },
    {
      "cell_type": "code",
      "source": [
        "#Task 2\n",
        "class Panda:\n",
        "  def __init__(self,name,gen,age):\n",
        "    self.name = name\n",
        "    self.gender = gen\n",
        "    self.age = age\n",
        "  def sleep(self,*tm):\n",
        "    if len(tm)>0:\n",
        "      if 3<=tm[0]<=5:\n",
        "        return (f'{self.name} sleeps {tm[0]} hours daily and should have Mixed Veggies')\n",
        "      elif 6<=tm[0]<=8:\n",
        "        return (f'{self.name} sleeps {tm[0]} hours daily and should have Eggplant & Tofu')\n",
        "      elif 9<=tm[0]<=11:\n",
        "        return (f'{self.name} sleeps {tm[0]} hours daily and should have Broccoli Chicken')\n",
        "    else:\n",
        "      return (f\"{self.name}'s duration is unknown thus should have only  bamboo leaves\")\n",
        "\n",
        "\n",
        "panda1 = Panda(\"Kunfu\",\"Male\", 5)\n",
        "panda2=Panda(\"Pan Pan\",\"Female\",3)\n",
        "panda3=Panda(\"Ming Ming\",\"Female\",8)\n",
        "\n",
        "print(\"{} is a {} Panda Bear who is {} years old\".format(panda1.name,panda1.gender,panda1.age))\n",
        "\n",
        "print(\"{} is a {} Panda Bear who is {} years old\".format(panda2.name,panda2.gender,panda2.age))\n",
        "\n",
        "print(\"{} is a {} Panda Bear who is {} years old\".format(panda3.name,panda3.gender,panda3.age))\n",
        "print(\"===========================\")\n",
        "print(panda2.sleep(10))\n",
        "print(panda1.sleep(4))\n",
        "print(panda3.sleep())\n"
      ],
      "metadata": {
        "colab": {
          "base_uri": "https://localhost:8080/"
        },
        "id": "-bBmr1rnc621",
        "outputId": "7d1f1b49-8cfc-4cb4-ecd7-a4ebbe2c9602"
      },
      "execution_count": null,
      "outputs": [
        {
          "output_type": "stream",
          "name": "stdout",
          "text": [
            "Kunfu is a Male Panda Bear who is 5 years old\n",
            "Pan Pan is a Female Panda Bear who is 3 years old\n",
            "Ming Ming is a Female Panda Bear who is 8 years old\n",
            "===========================\n",
            "Pan Pan sleeps 10 hours daily and should have Broccoli Chicken\n",
            "Kunfu sleeps 4 hours daily and should have Mixed Veggies\n",
            "Ming Ming's duration is unknown thus should have only  bamboo leaves\n"
          ]
        }
      ]
    },
    {
      "cell_type": "code",
      "source": [
        "#Task 3\n",
        "class Cat:\n",
        "  def __init__(self,*arg):\n",
        "    self.color = 'White'\n",
        "    self.con = 'sitting'\n",
        "    if 2>len(arg)>0:\n",
        "      self.color = arg[0]\n",
        "    elif len(arg)>1:\n",
        "      self.color = arg[0]\n",
        "      self.con = arg[1]\n",
        "\n",
        "  def printCat(self):\n",
        "    print(f'{self.color} cat is {self.con}')\n",
        "\n",
        "  def changeColor(self,cng):\n",
        "    self.color=cng\n",
        "\n",
        "\n",
        "\n",
        "c1 = Cat()\n",
        "c2 = Cat(\"Black\")\n",
        "c3 = Cat(\"Brown\", \"jumping\")\n",
        "c4 = Cat(\"Red\", \"purring\")\n",
        "c1.printCat()\n",
        "c2.printCat()\n",
        "c3.printCat()\n",
        "c4.printCat()\n",
        "c1.changeColor(\"Blue\")\n",
        "c3.changeColor(\"Purple\")\n",
        "c1.printCat()\n",
        "c3.printCat()\n"
      ],
      "metadata": {
        "colab": {
          "base_uri": "https://localhost:8080/"
        },
        "id": "hxSPCabJ82_y",
        "outputId": "239c464d-128f-472c-cc40-3b8f0e2e195f"
      },
      "execution_count": null,
      "outputs": [
        {
          "output_type": "stream",
          "name": "stdout",
          "text": [
            "White cat is sitting\n",
            "Black cat is sitting\n",
            "Brown cat is jumping\n",
            "Red cat is purring\n",
            "Blue cat is sitting\n",
            "Purple cat is jumping\n"
          ]
        }
      ]
    },
    {
      "cell_type": "code",
      "source": [
        "#Task 4 (sesher line keno?)\n",
        "class Student:\n",
        "  def __init__(self,*args):\n",
        "    self.name = 'default student'\n",
        "    if len(args)>0:\n",
        "      self.name = args[0]\n",
        "    print('Hello', self.name)\n",
        "    self.final = None\n",
        "  def quizcalc(self,*marks):\n",
        "    tot = 0\n",
        "    for a in marks:\n",
        "      tot+=a\n",
        "    final = tot/3\n",
        "    self.final=(f'Your average quiz score is {final}')\n",
        "\n",
        "  def printdetail(self):\n",
        "    print(self.final)\n",
        "\n",
        "s1 = Student()\n",
        "s1.quizcalc(10)\n",
        "print('--------------------------------')\n",
        "s1.printdetail()\n",
        "s2 = Student('Harry')\n",
        "s2.quizcalc(10,8)\n",
        "print('--------------------------------')\n",
        "s2.printdetail()\n",
        "s3 = Student('Hermione')\n",
        "s3.quizcalc(10,9,10)\n",
        "print('--------------------------------')\n",
        "s3.printdetail()"
      ],
      "metadata": {
        "colab": {
          "base_uri": "https://localhost:8080/"
        },
        "id": "snEs4auB_Duv",
        "outputId": "04375849-564b-4a5b-afc8-8f5cb310a8ef"
      },
      "execution_count": null,
      "outputs": [
        {
          "output_type": "stream",
          "name": "stdout",
          "text": [
            "Hello default student\n",
            "--------------------------------\n",
            "Your average quiz score is 3.3333333333333335\n",
            "Hello Harry\n",
            "--------------------------------\n",
            "Your average quiz score is 6.0\n",
            "Hello Hermione\n",
            "--------------------------------\n",
            "Your average quiz score is 9.666666666666666\n"
          ]
        }
      ]
    },
    {
      "cell_type": "code",
      "source": [
        "#Task 5\n",
        "class Student:\n",
        "  def __init__(self,name,id,dept='CSE'):\n",
        "    self.name = name\n",
        "    self.id = id\n",
        "    self.dept = dept\n",
        "    self.eff = 0\n",
        "\n",
        "  def dailyEffort(self,num):\n",
        "    self.eff = num\n",
        "\n",
        "  def printDetails(self):\n",
        "    print(f'Name: {self.name}')\n",
        "    print(f'ID: {self.id}')\n",
        "    print(f'Department: {self.dept}')\n",
        "    print(f'Daily Effort: {self.eff} hour(s)')\n",
        "    if self.eff<=2:\n",
        "      print('Suggestion: Should give more effort!')\n",
        "    elif self.eff<=4:\n",
        "      print('Suggestion: Keep up the good work!')\n",
        "    else:\n",
        "      print('Suggestion: Excellent! Now motivate others.')\n",
        "\n",
        "\n",
        "\n",
        "\n",
        "harry = Student('Harry Potter', 123)\n",
        "harry.dailyEffort(3)\n",
        "harry.printDetails()\n",
        "print('========================')\n",
        "john = Student(\"John Wick\", 456, \"BBA\")\n",
        "john.dailyEffort(2)\n",
        "john.printDetails()\n",
        "print('========================')\n",
        "naruto = Student(\"Naruto Uzumaki\", 777, \"Ninja\")\n",
        "naruto.dailyEffort(6)\n",
        "naruto.printDetails()\n"
      ],
      "metadata": {
        "id": "69Ak-mMxceTt",
        "colab": {
          "base_uri": "https://localhost:8080/"
        },
        "outputId": "62fd6edf-642d-46b2-fcf3-61c04e648c81"
      },
      "execution_count": null,
      "outputs": [
        {
          "output_type": "stream",
          "name": "stdout",
          "text": [
            "Name: Harry Potter\n",
            "ID: 123\n",
            "Department: CSE\n",
            "Daily Effort: 3 hour(s)\n",
            "Suggestion: Keep up the good work!\n",
            "========================\n",
            "Name: John Wick\n",
            "ID: 456\n",
            "Department: BBA\n",
            "Daily Effort: 2 hour(s)\n",
            "Suggestion: Should give more effort!\n",
            "========================\n",
            "Name: Naruto Uzumaki\n",
            "ID: 777\n",
            "Department: Ninja\n",
            "Daily Effort: 6 hour(s)\n",
            "Suggestion: Excellent! Now motivate others.\n"
          ]
        }
      ]
    },
    {
      "cell_type": "code",
      "source": [
        "#Task 6\n",
        "class Patient:\n",
        "  def __init__(self,name,age):\n",
        "    self.name = name\n",
        "    self.age = age\n",
        "    self.symp = ''\n",
        "  def printPatientDetail(self):\n",
        "    print(f'Name: {self.name}')\n",
        "    print(f'Age: {self.age}')\n",
        "    print(f'Symptoms: {self.symp}')\n",
        "\n",
        "  def add_Symptom(self,*sym):\n",
        "    for a in sym:\n",
        "      if self.symp=='':\n",
        "        self.symp+=a\n",
        "      else:\n",
        "        self.symp += ', '+ a\n",
        "\n",
        "\n",
        "\n",
        "p1 = Patient(\"Thomas\", 23)\n",
        "p1.add_Symptom(\"Headache\")\n",
        "p2 = Patient(\"Carol\", 20)\n",
        "p2.add_Symptom(\"Vomiting\", \"Coughing\")\n",
        "p3 = Patient(\"Mike\", 25)\n",
        "p3.add_Symptom(\"Fever\", \"Headache\", \"Coughing\")\n",
        "print(\"=========================\")\n",
        "p1.printPatientDetail()\n",
        "print(\"=========================\")\n",
        "p2.printPatientDetail()\n",
        "print(\"=========================\")\n",
        "p3.printPatientDetail()\n"
      ],
      "metadata": {
        "colab": {
          "base_uri": "https://localhost:8080/"
        },
        "id": "DmGfBnQVgj18",
        "outputId": "edc211ad-6009-4b21-9864-66d34cbee4c7"
      },
      "execution_count": null,
      "outputs": [
        {
          "output_type": "stream",
          "name": "stdout",
          "text": [
            "=========================\n",
            "Name: Thomas\n",
            "Age: 23\n",
            "Symptoms: Headache\n",
            "=========================\n",
            "Name: Carol\n",
            "Age: 20\n",
            "Symptoms: Vomiting, Coughing\n",
            "=========================\n",
            "Name: Mike\n",
            "Age: 25\n",
            "Symptoms: Fever, Headache, Coughing\n"
          ]
        }
      ]
    },
    {
      "cell_type": "code",
      "source": [
        "#Task 7\n",
        "class Match:\n",
        "  def __init__(self,team):\n",
        "    self.team = team\n",
        "    print('5..4..3..2..1..Play!!!')\n",
        "    self.runs = 0\n",
        "    self.over = 0\n",
        "    self.wic = 0\n",
        "  def add_run(self,run):\n",
        "    self.runs+=run\n",
        "\n",
        "  def print_scoreboard(self):\n",
        "    a,b = self.team.split('-')\n",
        "    print(f'Batting Team: {a}')\n",
        "    print(f'Bowling Team: {b}')\n",
        "    return(f'Total Runs: {self.runs} Wickets: {self.wic} Overs: {self.over}')\n",
        "\n",
        "\n",
        "  def add_wicket(self,wick):\n",
        "    self.wic+=wick\n",
        "\n",
        "  def add_over(self,over):\n",
        "    if self.over+over>5:\n",
        "      print(f'Warning! Cannot add {over} over/s (5 over match)')\n",
        "    else:\n",
        "      self.over+=over\n",
        "\n",
        "\n",
        "match1 = Match(\"Rangpur Riders-Cumilla Victorians\")\n",
        "print(\"=========================\")\n",
        "match1.add_run(4)\n",
        "match1.add_run(6)\n",
        "match1.add_over(1)\n",
        "print(match1.print_scoreboard())\n",
        "print(\"=========================\")\n",
        "match1.add_over(5)\n",
        "print(\"=========================\")\n",
        "match1.add_wicket(1)\n",
        "print(match1.print_scoreboard())\n"
      ],
      "metadata": {
        "colab": {
          "base_uri": "https://localhost:8080/"
        },
        "id": "N5fXVCaZhRDm",
        "outputId": "c62a1f39-e499-44b1-cf9f-194c70741deb"
      },
      "execution_count": null,
      "outputs": [
        {
          "output_type": "stream",
          "name": "stdout",
          "text": [
            "5..4..3..2..1..Play!!!\n",
            "=========================\n",
            "Batting Team: Rangpur Riders\n",
            "Bowling Team: Cumilla Victorians\n",
            "Total Runs: 10 Wickets: 0 Overs: 1\n",
            "=========================\n",
            "Warning! Cannot add 5 over/s (5 over match)\n",
            "=========================\n",
            "Batting Team: Rangpur Riders\n",
            "Bowling Team: Cumilla Victorians\n",
            "Total Runs: 10 Wickets: 1 Overs: 1\n"
          ]
        }
      ]
    },
    {
      "cell_type": "code",
      "source": [
        "#Task 8\n",
        "class ParcelKoro:\n",
        "  def __init__(self,*args):\n",
        "    self.name = 'No name set'\n",
        "    self.product_weight = 0\n",
        "    self.fee = 0\n",
        "    if 0<len(args)<2:\n",
        "      self.name = args[0]\n",
        "    elif len(args)>1:\n",
        "      self.name = args[0]\n",
        "      self.product_weight = args[1]\n",
        "\n",
        "  def calculateFee(self,*loc):\n",
        "    if self.product_weight != 0:\n",
        "      if len(loc)>0:\n",
        "        fee = (self.product_weight*20) + 100\n",
        "      else:\n",
        "        fee = (self.product_weight*20) + 50\n",
        "      self.fee+=fee\n",
        "\n",
        "  def printDetails(self):\n",
        "    print(f'Customer Name: {self.name}')\n",
        "    print(f'Product Weight: {self.product_weight}')\n",
        "    print(f'Total fee: {self.fee}')\n",
        "\n",
        "\n",
        "\n",
        "print(\"**********************\")\n",
        "p1 = ParcelKoro()\n",
        "p1.calculateFee()\n",
        "p1.printDetails()\n",
        "print(\"**********************\")\n",
        "p2 = ParcelKoro('Bob The Builder')\n",
        "p2.calculateFee()\n",
        "p2.printDetails()\n",
        "print(\"'------------------------'----\")\n",
        "p2.product_weight = 15\n",
        "p2.calculateFee()\n",
        "p2.printDetails()\n",
        "print(\"**********************\")\n",
        "p3 = ParcelKoro('Dora The Explorer', 10)\n",
        "p3.calculateFee('Dhanmondi')\n",
        "p3.printDetails()"
      ],
      "metadata": {
        "colab": {
          "base_uri": "https://localhost:8080/"
        },
        "id": "O0B00nNf15Kc",
        "outputId": "499953e7-e0ac-4916-f3fd-6679157cb3ef"
      },
      "execution_count": null,
      "outputs": [
        {
          "output_type": "stream",
          "name": "stdout",
          "text": [
            "**********************\n",
            "Customer Name: No name set\n",
            "Product Weight: 0\n",
            "Total fee: 0\n",
            "**********************\n",
            "Customer Name: Bob The Builder\n",
            "Product Weight: 0\n",
            "Total fee: 0\n",
            "----------------------------\n",
            "Customer Name: Bob The Builder\n",
            "Product Weight: 15\n",
            "Total fee: 350\n",
            "**********************\n",
            "Customer Name: Dora The Explorer\n",
            "Product Weight: 10\n",
            "Total fee: 300\n"
          ]
        }
      ]
    },
    {
      "cell_type": "code",
      "source": [
        "#Task 9(need help)(should try with def)\n",
        "class Batsman:\n",
        "  def __init__(self,*args):\n",
        "    if len(args)==2:\n",
        "      self.score = args[0]\n",
        "      self.Balls = args[1]\n",
        "      self.name = 'New Batsman'\n",
        "\n",
        "    else:\n",
        "      self.name = args[0]\n",
        "      self.score = args[1]\n",
        "      self.Balls = args[2]\n",
        "  def setName(self,new):\n",
        "    self.name = new\n",
        "  def printCareerStatistics(self):\n",
        "    print(f'Name: {self.name}')\n",
        "    print(f'Runs Scored: {self.score}, Balls Faced: {self.Balls}')\n",
        "  def battingStrikeRate(self):\n",
        "    return ((self.score/self.Balls)*100)\n",
        "b1 = Batsman(6101, 7380)\n",
        "b1.printCareerStatistics()\n",
        "print(\"============================\")\n",
        "b2 = Batsman(\"Liton Das\", 678, 773)\n",
        "b2.printCareerStatistics()\n",
        "print(\"'------------------------'----\")\n",
        "print(b2.battingStrikeRate())\n",
        "print(\"============================\")\n",
        "b1.setName(\"Shakib Al Hasan\")\n",
        "b1.printCareerStatistics()\n",
        "print(\"'------------------------'----\")\n",
        "print(b1.battingStrikeRate())\n"
      ],
      "metadata": {
        "colab": {
          "base_uri": "https://localhost:8080/"
        },
        "id": "ZAw5J-_5HiDm",
        "outputId": "1eea5e93-f326-4534-984f-7395e12d9c06"
      },
      "execution_count": null,
      "outputs": [
        {
          "output_type": "stream",
          "name": "stdout",
          "text": [
            "Name: New Batsman\n",
            "Runs Scored: 6101, Balls Faced: 7380\n",
            "============================\n",
            "Name: Liton Das\n",
            "Runs Scored: 678, Balls Faced: 773\n",
            "'------------------------'----\n",
            "87.71021992238033\n",
            "============================\n",
            "Name: Shakib Al Hasan\n",
            "Runs Scored: 6101, Balls Faced: 7380\n",
            "'------------------------'----\n",
            "82.66937669376694\n"
          ]
        }
      ]
    },
    {
      "cell_type": "code",
      "source": [
        "#Task 10\n",
        "class EPL_Team:\n",
        "  def __init__(self,name,song='No Slogan'):\n",
        "    self.name = name\n",
        "    self.song = song\n",
        "    self.title = 0\n",
        "  def showClubInfo(self):\n",
        "    print(f'Name: {self.name}')\n",
        "    print(f'Song: {self.song}')\n",
        "    return (f'Total No of title: {self.title}')\n",
        "  def increaseTitle(self):\n",
        "    self.title+=1\n",
        "  def changeSong(self,new):\n",
        "    self.song = new\n",
        "\n",
        "\n",
        "\n",
        "manu = EPL_Team('Manchester United', 'Glory Glory Man United')\n",
        "chelsea = EPL_Team('Chelsea')\n",
        "print('===================')\n",
        "print(manu.showClubInfo())\n",
        "print('##################')\n",
        "manu.increaseTitle()\n",
        "print(manu.showClubInfo())\n",
        "print('===================')\n",
        "print(chelsea.showClubInfo())\n",
        "chelsea.changeSong('Keep the blue flag flying high')\n",
        "print(chelsea.showClubInfo())"
      ],
      "metadata": {
        "colab": {
          "base_uri": "https://localhost:8080/"
        },
        "id": "IuYh1YA_IiL4",
        "outputId": "b491cffa-4490-454f-b7bf-47cf5857ef06"
      },
      "execution_count": null,
      "outputs": [
        {
          "output_type": "stream",
          "name": "stdout",
          "text": [
            "===================\n",
            "Name: Manchester United\n",
            "Song: Glory Glory Man United\n",
            "Total No of title: 0\n",
            "##################\n",
            "Name: Manchester United\n",
            "Song: Glory Glory Man United\n",
            "Total No of title: 1\n",
            "===================\n",
            "Name: Chelsea\n",
            "Song: No Slogan\n",
            "Total No of title: 0\n",
            "Name: Chelsea\n",
            "Song: Keep the blue flag flying high\n",
            "Total No of title: 0\n"
          ]
        }
      ]
    },
    {
      "cell_type": "code",
      "source": [
        "#Task 11\n",
        "class Author:\n",
        "  def __init__(self,*args):\n",
        "    self.name = 'Default'\n",
        "    lst = []\n",
        "    if len(args)>0:\n",
        "      self.name = args[0]\n",
        "      for a in range(1,len(args)):\n",
        "        lst.append(args[a])\n",
        "    self.books = lst\n",
        "\n",
        "  def printDetails(self):\n",
        "    print(f'Author Name: {self.name}')\n",
        "    print('--------')\n",
        "    print('List of Books:')\n",
        "    for a in self.books:\n",
        "      print(a)\n",
        "  def addBooks(self,*new):\n",
        "    for a in new:\n",
        "      self.books.append(a)\n",
        "\n",
        "  def changeName(self,new):\n",
        "    self.name = new\n",
        "\n",
        "\n",
        "auth1 = Author('Humayun Ahmed')\n",
        "auth1.addBooks('Deyal', 'Megher Opor Bari')\n",
        "auth1.printDetails()\n",
        "print('===================')\n",
        "auth2 = Author()\n",
        "print(auth2.name)\n",
        "auth2.changeName('Mario Puzo')\n",
        "auth2.addBooks('The Godfather', 'Omerta', 'The Sicilian')\n",
        "print('===================')\n",
        "auth2.printDetails()\n",
        "print('===================')\n",
        "auth3 = Author('Paolo Coelho', 'The Alchemist', 'The Fifth Mountain')\n",
        "auth3.printDetails()\n"
      ],
      "metadata": {
        "colab": {
          "base_uri": "https://localhost:8080/"
        },
        "id": "ik_rB9V1O37Q",
        "outputId": "c83e9c3a-cf0c-44f4-dff7-7fa1aa420d20"
      },
      "execution_count": null,
      "outputs": [
        {
          "output_type": "stream",
          "name": "stdout",
          "text": [
            "Author Name: Humayun Ahmed\n",
            "--------\n",
            "List of Books:\n",
            "Deyal\n",
            "Megher Opor Bari\n",
            "===================\n",
            "Default\n",
            "===================\n",
            "Author Name: Mario Puzo\n",
            "--------\n",
            "List of Books:\n",
            "The Godfather\n",
            "Omerta\n",
            "The Sicilian\n",
            "===================\n",
            "Author Name: Paolo Coelho\n",
            "--------\n",
            "List of Books:\n",
            "The Alchemist\n",
            "The Fifth Mountain\n"
          ]
        }
      ]
    },
    {
      "cell_type": "code",
      "source": [
        "#Task 12\n",
        "class TaxiLagbe:\n",
        "  def __init__(self,num,place):\n",
        "    self.num = num\n",
        "    self.place = place\n",
        "    self.earn = 0\n",
        "    self.count = 0\n",
        "    self.pas = ''\n",
        "\n",
        "  def addPassenger(self,*pas):\n",
        "    lst = []\n",
        "    if self.count<4:\n",
        "      for a in pas:\n",
        "        self.count+=1\n",
        "        lst.append(a.split('_')[0])\n",
        "        print(f\"Dear {a.split('_')[0]}! Welcome to TaxiLagbe.\")\n",
        "        self.earn+=int(a.split('_')[1])\n",
        "      for a in lst:\n",
        "        if self.pas == '':\n",
        "          self.pas+=a\n",
        "        else:\n",
        "          self.pas+=', ' + a\n",
        "      # self.pas = self.pas[1:len(self.pas)]\n",
        "    else:\n",
        "      print('Taxi Full! No more passengers can be added.')\n",
        "\n",
        "\n",
        "  def printDetails(self):\n",
        "    print(f'Trip info for Taxi number: {self.num}')\n",
        "    print(f'This taxi can cover only {self.place} area.')\n",
        "    print(f'Total passengers: {self.count}')\n",
        "    print(f'Passenger lists:')\n",
        "    print(self.pas)\n",
        "    print(f'Total collected fare: {self.earn} Taka')\n",
        "\n",
        "taxi1 = TaxiLagbe('1010-01', 'Dhaka')\n",
        "print('-------------------------------')\n",
        "taxi1.addPassenger('Walker_100', 'Wood_200')\n",
        "taxi1.addPassenger('Matt_100')\n",
        "taxi1.addPassenger('Wilson_105')\n",
        "print('-------------------------------')\n",
        "taxi1.printDetails()\n",
        "print('-------------------------------')\n",
        "taxi1.addPassenger('Karen_200')\n",
        "print('-------------------------------')\n",
        "taxi1.printDetails()\n",
        "print('-------------------------------')\n",
        "taxi2 = TaxiLagbe('1010-02', 'Khulna')\n",
        "taxi2.addPassenger('Ronald_115')\n",
        "taxi2.addPassenger('Parker_215')\n",
        "print('-------------------------------')\n",
        "taxi2.printDetails()"
      ],
      "metadata": {
        "id": "3bvLW2jwM8ds",
        "colab": {
          "base_uri": "https://localhost:8080/"
        },
        "outputId": "4128e2ba-409f-4da6-8302-76f58d93ed9b"
      },
      "execution_count": null,
      "outputs": [
        {
          "output_type": "stream",
          "name": "stdout",
          "text": [
            "-------------------------------\n",
            "Dear Walker! Welcome to TaxiLagbe.\n",
            "Dear Wood! Welcome to TaxiLagbe.\n",
            "Dear Matt! Welcome to TaxiLagbe.\n",
            "Dear Wilson! Welcome to TaxiLagbe.\n",
            "-------------------------------\n",
            "Trip info for Taxi number: 1010-01\n",
            "This taxi can cover only Dhaka area.\n",
            "Total passengers: 4\n",
            "Passenger lists:\n",
            "Walker, Wood, Matt, Wilson\n",
            "Total collected fare: 505 Taka\n",
            "-------------------------------\n",
            "Taxi Full! No more passengers can be added.\n",
            "-------------------------------\n",
            "Trip info for Taxi number: 1010-01\n",
            "This taxi can cover only Dhaka area.\n",
            "Total passengers: 4\n",
            "Passenger lists:\n",
            "Walker, Wood, Matt, Wilson\n",
            "Total collected fare: 505 Taka\n",
            "-------------------------------\n",
            "Dear Ronald! Welcome to TaxiLagbe.\n",
            "Dear Parker! Welcome to TaxiLagbe.\n",
            "-------------------------------\n",
            "Trip info for Taxi number: 1010-02\n",
            "This taxi can cover only Khulna area.\n",
            "Total passengers: 2\n",
            "Passenger lists:\n",
            "Ronald, Parker\n",
            "Total collected fare: 330 Taka\n"
          ]
        }
      ]
    },
    {
      "cell_type": "code",
      "source": [
        "#Task 13\n",
        "class Account:\n",
        "  def __init__(self,*args):\n",
        "    self.name = 'Default Account'\n",
        "    self.balance = 0.0\n",
        "    if 0<len(args)<2:\n",
        "      self.name = args[0]\n",
        "    elif len(args)>1:\n",
        "      self.name= args[0]\n",
        "      self.balance = args[1]\n",
        "\n",
        "  def details(self):\n",
        "    print(self.name)\n",
        "    return (self.balance)\n",
        "\n",
        "  def withdraw(self,amnt):\n",
        "    if (self.balance - amnt)>3070:\n",
        "      self.balance -= amnt\n",
        "      print(f'Withdraw successful! New balance is: {self.balance}')\n",
        "    else:\n",
        "      print('Sorry, Withdraw unsuccessful! The account balance after deducting withdraw amount is equal to or less than minimum.')\n",
        "\n",
        "\n",
        "\n",
        "a1 = Account()\n",
        "print(a1.details())\n",
        "print('------------------------')\n",
        "a1.name = 'Oliver'\n",
        "a1.balance = 10000.0\n",
        "print(a1.details())\n",
        "print('------------------------')\n",
        "a2 = Account('Liam')\n",
        "print(a2.details())\n",
        "print('------------------------')\n",
        "a3 = Account('Noah',400)\n",
        "print(a3.details())\n",
        "print('------------------------')\n",
        "a1.withdraw(6930)\n",
        "print('------------------------')\n",
        "a2.withdraw(600)\n",
        "print('------------------------')\n",
        "a1.withdraw(6929)"
      ],
      "metadata": {
        "colab": {
          "base_uri": "https://localhost:8080/"
        },
        "id": "QP5UGsp7M-vj",
        "outputId": "c6f608b2-2e15-4667-d5dc-256a52e64477"
      },
      "execution_count": null,
      "outputs": [
        {
          "output_type": "stream",
          "name": "stdout",
          "text": [
            "Default Account\n",
            "0.0\n",
            "------------------------\n",
            "Oliver\n",
            "10000.0\n",
            "------------------------\n",
            "Liam\n",
            "0.0\n",
            "------------------------\n",
            "Noah\n",
            "400\n",
            "------------------------\n",
            "Sorry, Withdraw unsuccessful! The account balance after deducting withdraw amount is equal to or less than minimum.\n",
            "------------------------\n",
            "Sorry, Withdraw unsuccessful! The account balance after deducting withdraw amount is equal to or less than minimum.\n",
            "------------------------\n",
            "Withdraw successful! New balance is: 3071.0\n"
          ]
        }
      ]
    },
    {
      "cell_type": "code",
      "source": [
        "#Task 14\n",
        "class StudentDatabase:\n",
        "  def __init__(self,name,id):\n",
        "    self.name = name\n",
        "    self.id = id\n",
        "    self.grades = {}\n",
        "    self.loop = {}\n",
        "  def calculateGPA(self,lst,sess):\n",
        "    shob ={}\n",
        "    count = 0\n",
        "    sum = 0\n",
        "    d1 = {}\n",
        "    newlst = []\n",
        "    course = []\n",
        "    for a in lst:\n",
        "      k = a.split(': ')\n",
        "      d1[k[0]]= float(k[1])\n",
        "      newlst.append(k[0])\n",
        "      course.append(k[0])\n",
        "\n",
        "    for k,v in d1.items():\n",
        "      sum += v\n",
        "      count+=1\n",
        "\n",
        "    self.grade = round(sum/count,2)\n",
        "    shob[tuple(course)] = self.grade\n",
        "    self.grades[sess] = shob\n",
        "\n",
        "    newlst.append(f'GPA: {self.grade}')\n",
        "    self.loop[sess]=newlst\n",
        "\n",
        "  def printDetails(self):\n",
        "    print(f'Name: {self.name}')\n",
        "    print(f'Id: {self.id}')\n",
        "    for k,v in self.loop.items():\n",
        "      print(f'Courses taken in {k}:')\n",
        "      count = 0\n",
        "      for a in v:\n",
        "        print(a)\n",
        "\n",
        "\n",
        "\n",
        "s1 = StudentDatabase('Pietro', '10101222')\n",
        "s1.calculateGPA(['CSE230: 4.0', 'CSE220: 4.0', 'MAT110: 4.0'], 'Summer2020')\n",
        "s1.calculateGPA(['CSE250: 3.7', 'CSE330: 4.0'], 'Summer2021')\n",
        "print(f'Grades for {s1.name}\\n{s1.grades}')\n",
        "print('------------------------------------------------------')\n",
        "s1.printDetails()\n",
        "s2 = StudentDatabase('Wanda', '10103332')\n",
        "s2.calculateGPA(['CSE111: 3.7', 'CSE260: 3.7', 'ENG101: 4.0'], 'Summer2022')\n",
        "print('------------------------------------------------------')\n",
        "print(f'Grades for {s2.name}\\n{s2.grades}')\n",
        "print('------------------------------------------------------')\n",
        "s2.printDetails()\n"
      ],
      "metadata": {
        "colab": {
          "base_uri": "https://localhost:8080/"
        },
        "id": "kJpyZIILIp0_",
        "outputId": "ad6842a1-3ef6-4b95-9f86-15b688e7a3b0"
      },
      "execution_count": null,
      "outputs": [
        {
          "output_type": "stream",
          "name": "stdout",
          "text": [
            "Grades for Pietro\n",
            "{'Summer2020': {('CSE230', 'CSE220', 'MAT110'): 4.0}, 'Summer2021': {('CSE250', 'CSE330'): 3.85}}\n",
            "------------------------------------------------------\n",
            "Name: Pietro\n",
            "Id: 10101222\n",
            "Courses taken in Summer2020:\n",
            "CSE230\n",
            "CSE220\n",
            "MAT110\n",
            "GPA: 4.0\n",
            "Courses taken in Summer2021:\n",
            "CSE250\n",
            "CSE330\n",
            "GPA: 3.85\n",
            "------------------------------------------------------\n",
            "Grades for Wanda\n",
            "{'Summer2022': {('CSE111', 'CSE260', 'ENG101'): 3.8}}\n",
            "------------------------------------------------------\n",
            "Name: Wanda\n",
            "Id: 10103332\n",
            "Courses taken in Summer2022:\n",
            "CSE111\n",
            "CSE260\n",
            "ENG101\n",
            "GPA: 3.8\n"
          ]
        }
      ]
    },
    {
      "cell_type": "code",
      "source": [
        "#Labiba\n",
        "class Student:\n",
        "  def __init__(self,name,id,dep):\n",
        "    self.name=name\n",
        "    self.id=id\n",
        "    self.dep=dep\n",
        "    self.l=[]\n",
        "    self.count=0\n",
        "    self.new=\"\"\n",
        "    self.credit=0\n",
        "  def details(self):\n",
        "    print(\"Nmae:\",self.name)\n",
        "    print(\"ID:\",self.id)\n",
        "    print(\"DEpartment: \", self.dep)\n",
        "\n",
        "  def advise(self,*args):\n",
        "    for i in args:\n",
        "       self.l.append(i)\n",
        "    for i in self.l:\n",
        "      self.count+=1\n",
        "    for i in self.l:\n",
        "       self.new+=i +\",\"\n",
        "    self.credit=self.count*3\n",
        "    print(self.name,\"You have taken\",self.credit,\"credits.\")\n",
        "    print(\"List of courses:\",end=\"\")\n",
        "    print(self.new[0:len(self.new)-1])\n",
        "\n",
        "    if self.credit<=6.0:\n",
        "      print(\"Status: You have to take at least 1 more course.\")\n",
        "    elif 6<self.credit<=12:\n",
        "      print(\"Status: Ok\")\n",
        "    elif self.credit>=15:\n",
        "      print(\"Status: You have to drop at least 1 course.\")\n",
        "\n",
        "s1 = Student(\"Alice\",\"20103012\",\"CSE\")\n",
        "s2 = Student(\"Bob\", \"18301254\",\"EEE\")\n",
        "s3 = Student(\"Carol\",\"17101238\",\"CSE\")\n",
        "print(\"##########################\")\n",
        "s1.details()\n",
        "print(\"##########################\")\n",
        "s2.details()\n",
        "print(\"##########################\")\n",
        "s1.advise(\"CSE110\",\"MAT110\", \"PHY111\")\n",
        "print(\"##########################\")\n",
        "s2.advise(\"BUS101\", \"MAT120\")\n",
        "print(\"##########################\")\n",
        "s3.advise(\"MAT110\", \"PHY111\", \"ENG102\",\"CSE111\",\"CSE230\")"
      ],
      "metadata": {
        "colab": {
          "base_uri": "https://localhost:8080/"
        },
        "id": "Em2C8ufb9_rg",
        "outputId": "53cb8360-3886-47ef-ecf2-8b80496b6612"
      },
      "execution_count": null,
      "outputs": [
        {
          "output_type": "stream",
          "name": "stdout",
          "text": [
            "##########################\n",
            "Nmae: Alice\n",
            "ID: 20103012\n",
            "DEpartment:  CSE\n",
            "##########################\n",
            "Nmae: Bob\n",
            "ID: 18301254\n",
            "DEpartment:  EEE\n",
            "##########################\n",
            "Alice You have taken 9 credits.\n",
            "List of courses:CSE110,MAT110,PHY111\n",
            "Status: Ok\n",
            "##########################\n",
            "Bob You have taken 6 credits.\n",
            "List of courses:BUS101,MAT120\n",
            "Status: You have to take at least 1 more course.\n",
            "##########################\n",
            "Carol You have taken 15 credits.\n",
            "List of courses:MAT110,PHY111,ENG102,CSE111,CSE230\n",
            "Status: You have to drop at least 1 course.\n"
          ]
        }
      ]
    },
    {
      "cell_type": "code",
      "source": [],
      "metadata": {
        "id": "AVKxHLYOAYaJ"
      },
      "execution_count": null,
      "outputs": []
    },
    {
      "cell_type": "code",
      "source": [
        "class FinalT6A:\n",
        "    def __init__(self, x, p):\n",
        "        self.temp, self.sum, self.y = 4, 0, 1\n",
        "        self.temp += 1\n",
        "        self.y = self.temp - p\n",
        "        self.sum = self.temp + x\n",
        "        print(x, self.y, self.sum)\n",
        "    def methodA(self):\n",
        "        x = 0\n",
        "        y = 0\n",
        "        y = y + self.y\n",
        "        x = self.y + 2 + self.temp\n",
        "        self.sum = x + y + self.methodB(self.temp, y)\n",
        "        print(x, y, self.sum)\n",
        "    def methodB(self, temp, n):\n",
        "        x = 0\n",
        "        temp += 1\n",
        "        self.y = self.y + temp\n",
        "        x = x + 3 + n\n",
        "        self.sum = self.sum + x + self.y\n",
        "        print(x, self.y, self.sum)\n",
        "        return self.sum\n",
        "\n",
        "\n",
        "q1 = FinalT6A(2,1)\n",
        "q1.methodA()\n",
        "q1.methodA()\n",
        "\n"
      ],
      "metadata": {
        "colab": {
          "base_uri": "https://localhost:8080/"
        },
        "id": "njGqrIpmAKU5",
        "outputId": "a7fbfa34-ba32-4371-f712-790dc7e8d74a"
      },
      "execution_count": null,
      "outputs": [
        {
          "output_type": "stream",
          "name": "stdout",
          "text": [
            "2 4 7\n",
            "7 10 24\n",
            "11 4 39\n",
            "13 16 68\n",
            "17 10 95\n"
          ]
        }
      ]
    },
    {
      "cell_type": "code",
      "source": [
        "d1 = {'k':'val'}\n",
        "print(d1['k'])222222222222223"
      ],
      "metadata": {
        "colab": {
          "base_uri": "https://localhost:8080/"
        },
        "id": "9jYqMRt-itzj",
        "outputId": "60d69491-1b8c-49ed-a9bd-1c13fbe94efb"
      },
      "execution_count": null,
      "outputs": [
        {
          "output_type": "stream",
          "name": "stdout",
          "text": [
            "val\n"
          ]
        }
      ]
    }
  ]
}