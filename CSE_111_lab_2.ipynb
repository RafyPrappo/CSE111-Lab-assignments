{
  "nbformat": 4,
  "nbformat_minor": 0,
  "metadata": {
    "colab": {
      "provenance": [],
      "authorship_tag": "ABX9TyMYtPCeQVrwXKSsFeMDFaLt"
    },
    "kernelspec": {
      "name": "python3",
      "display_name": "Python 3"
    },
    "language_info": {
      "name": "python"
    }
  },
  "cells": [
    {
      "cell_type": "code",
      "execution_count": null,
      "metadata": {
        "colab": {
          "base_uri": "https://localhost:8080/"
        },
        "id": "vy4I2J4PflpW",
        "outputId": "1e0ac4f7-35d2-4a14-8448-e812d135f8d8"
      },
      "outputs": [
        {
          "output_type": "stream",
          "name": "stdout",
          "text": [
            "7\n",
            "2\n",
            "0.5\n"
          ]
        }
      ],
      "source": [
        "#Task 1\n",
        "def frac(devisible,devider):\n",
        "  if devider==0 or devisible==0:\n",
        "    final = 0\n",
        "  else:\n",
        "    k = devisible/devider\n",
        "    j = devisible//devider\n",
        "    final = abs(k-j)\n",
        "  return final\n",
        "inp1 = int(input())\n",
        "inp2 = int(input())\n",
        "print(frac(inp1,inp2))"
      ]
    },
    {
      "cell_type": "code",
      "source": [
        "#supporting concept\n",
        "#round function"
      ],
      "metadata": {
        "id": "FDJ3Hu5ZLDTL"
      },
      "execution_count": null,
      "outputs": []
    },
    {
      "cell_type": "code",
      "source": [
        "#Task 2\n",
        "def amikenomota(height,weight):\n",
        "  h = height/100\n",
        "  bmi = (weight)/(h**2)\n",
        "  if bmi<18.5:\n",
        "    k = 'Underweight'\n",
        "  elif  18.5<=bmi<=24.9:\n",
        "    k = 'Normal'\n",
        "  else:\n",
        "    k = 'Obese'\n",
        "  print('Score is {:.2f}. You are {}'.format(bmi,k))\n",
        "inp1 = int(input('Input height: '))\n",
        "inp2 = int(input('Input weight: '))\n",
        "amikenomota(height=inp1,weight=inp2)"
      ],
      "metadata": {
        "colab": {
          "base_uri": "https://localhost:8080/"
        },
        "id": "Xh9bDm0frgPf",
        "outputId": "d16a7932-20a9-4d2e-e4f8-d5a4d36f9975"
      },
      "execution_count": null,
      "outputs": [
        {
          "output_type": "stream",
          "name": "stdout",
          "text": [
            "Input height: 152\n",
            "Input weight: 48\n",
            "Score is 20.78. You are Normal\n"
          ]
        }
      ]
    },
    {
      "cell_type": "code",
      "source": [
        "#Task 3\n",
        "def botmon(minimum,maximum,divisior):\n",
        "  sum = 0\n",
        "  for a in range(minimum,maximum):\n",
        "    if a%divisior==0:\n",
        "      sum+=a\n",
        "  return sum\n",
        "min = int(input())\n",
        "max = int(input())\n",
        "div = int(input())\n",
        "botmon(min,max,div)"
      ],
      "metadata": {
        "colab": {
          "base_uri": "https://localhost:8080/"
        },
        "id": "yciBtIdgr-zZ",
        "outputId": "882cccca-48db-47b3-fe1d-ed00112a3b12"
      },
      "execution_count": null,
      "outputs": [
        {
          "name": "stdout",
          "output_type": "stream",
          "text": [
            "3\n",
            "16\n",
            "3\n"
          ]
        },
        {
          "output_type": "execute_result",
          "data": {
            "text/plain": [
              "45"
            ]
          },
          "metadata": {},
          "execution_count": 18
        }
      ]
    },
    {
      "cell_type": "code",
      "source": [
        "#Task 4\n",
        "name = input('Input burger name: ').lower()\n",
        "place = input('Input location: ').lower()\n",
        "def FoodPanda(nam=name,plac=place):\n",
        "  dic = {'bbq chicken cheese burger':250, 'beef burger': 170, 'naga burger': 200}\n",
        "  price = 0\n",
        "  for k,v in dic.items():\n",
        "    if k==nam:\n",
        "      price=v\n",
        "  df = 0\n",
        "  tax =(8/100)*price\n",
        "  if plac=='mohakhali' or plac=='':\n",
        "    df = 40\n",
        "  else:\n",
        "    df = 60\n",
        "  tot = price+df+tax\n",
        "  return tot\n",
        "print(FoodPanda())"
      ],
      "metadata": {
        "colab": {
          "base_uri": "https://localhost:8080/"
        },
        "id": "T-h9gh4Z1bD-",
        "outputId": "d0fceb06-b62c-4fbc-87cc-3081942300d2"
      },
      "execution_count": null,
      "outputs": [
        {
          "output_type": "stream",
          "name": "stdout",
          "text": [
            "Input burger name: beef burger\n",
            "Input location: \n",
            "223.6\n"
          ]
        }
      ]
    },
    {
      "cell_type": "code",
      "source": [
        "#Task 5\n",
        "email = input()\n",
        "new = input()\n",
        "prev = input()\n",
        "def replace_domain(email,new,old=prev):\n",
        "  notun = new[-1:-len(new)-1:-1]\n",
        "  if email[-1:-len(new)-1:-1]==notun:\n",
        "    change = False\n",
        "  else:\n",
        "    change = True\n",
        "  if change==True:\n",
        "    lst = email.split('@')\n",
        "    final = f\"Changed: {lst[0]+'@'+new}\"\n",
        "  else:\n",
        "    final = f'Unchanged: {email}'\n",
        "  return final\n",
        "print(replace_domain(email,new))"
      ],
      "metadata": {
        "colab": {
          "base_uri": "https://localhost:8080/"
        },
        "id": "8W8vR7Vh53e2",
        "outputId": "f751bec7-83a0-4c19-ed5e-c05f7218d831"
      },
      "execution_count": null,
      "outputs": [
        {
          "output_type": "stream",
          "name": "stdout",
          "text": [
            "bobhello@heelo@sheba.xyz\n",
            "sheba.xyz\n",
            "\n",
            "Unchanged: bobhello@heelo@sheba.xyz\n"
          ]
        }
      ]
    },
    {
      "cell_type": "code",
      "source": [
        "#supporting concept\n",
        "s ='bobhello@heelo@sheba.xyz'\n",
        "b = 'sheba.xyz'\n",
        "print(s[-1:-len(b)-1:-1])"
      ],
      "metadata": {
        "colab": {
          "base_uri": "https://localhost:8080/"
        },
        "id": "-3GFopLPM2Oc",
        "outputId": "f3becd52-9f7f-45dc-ebd6-9c37124ee54b"
      },
      "execution_count": null,
      "outputs": [
        {
          "output_type": "stream",
          "name": "stdout",
          "text": [
            "zyx.abehs\n"
          ]
        }
      ]
    },
    {
      "cell_type": "code",
      "source": [
        "#Task 6\n",
        "def vowel(name):\n",
        "  vow='aeiou'\n",
        "  str1=''\n",
        "  count = 0\n",
        "  for a in name:\n",
        "    if a in vow:\n",
        "      str1+=a+', '\n",
        "      count+=1\n",
        "  if count!=0:\n",
        "    final=f\"Vowels: {str1[0:len(str1)-2]+'.'} Total number of vowels: {count}\"\n",
        "  else:\n",
        "    final = 'No vowels in the name'\n",
        "  return final\n",
        "name = input().lower()\n",
        "print(vowel(name))"
      ],
      "metadata": {
        "colab": {
          "base_uri": "https://localhost:8080/"
        },
        "id": "dGHA3Xdu6POR",
        "outputId": "8a2e6726-b5dc-49e8-da17-b3eb07eae352"
      },
      "execution_count": null,
      "outputs": [
        {
          "output_type": "stream",
          "name": "stdout",
          "text": [
            "xyz\n",
            "No vowels in the name\n"
          ]
        }
      ]
    },
    {
      "cell_type": "code",
      "source": [
        "#Task 7\n",
        "def checkpalin(inp):\n",
        "  ulta = ''\n",
        "  soja = ''\n",
        "  lst = inp.split(' ')\n",
        "  for a in lst:\n",
        "    ulta+=a\n",
        "    soja+=a\n",
        "  ulta = ulta[-1:-len(ulta)-1:-1]\n",
        "  if soja==ulta:\n",
        "    final = 'Palindrome'\n",
        "  else:\n",
        "    final = 'Not a palindrome'\n",
        "  return final\n",
        "inp = input()\n",
        "print(checkpalin(inp))"
      ],
      "metadata": {
        "colab": {
          "base_uri": "https://localhost:8080/"
        },
        "id": "fuABz65q8Lmk",
        "outputId": "14306f33-eeb9-43ae-afdb-9c87c5095709"
      },
      "execution_count": null,
      "outputs": [
        {
          "output_type": "stream",
          "name": "stdout",
          "text": [
            "nurses run\n",
            "Palindrome\n"
          ]
        }
      ]
    },
    {
      "cell_type": "code",
      "source": [
        "#Task 8\n",
        "def time(inp):\n",
        "  year = inp//365\n",
        "  rem = inp%365\n",
        "  month = rem//30\n",
        "  rem = rem%30\n",
        "\n",
        "  final = f'{year} years, {month} months, {rem} days'\n",
        "\n",
        "  return final\n",
        "inp = int(input())\n",
        "print(time(inp))"
      ],
      "metadata": {
        "colab": {
          "base_uri": "https://localhost:8080/"
        },
        "id": "8cfOC18QBHYV",
        "outputId": "b104041f-c6e7-4a66-b279-5c3222283937"
      },
      "execution_count": null,
      "outputs": [
        {
          "output_type": "stream",
          "name": "stdout",
          "text": [
            "4000\n",
            "10 years, 11 months, 20 days\n"
          ]
        }
      ]
    },
    {
      "cell_type": "code",
      "source": [
        "#Task 9\n",
        "inp = input()\n",
        "def correction(inp):\n",
        "  # count = 0\n",
        "  change = False\n",
        "  stop = False\n",
        "  final = ''\n",
        "  for a in range(len(inp)):\n",
        "    if inp[a]=='.' or inp[a]=='?' or inp[a]=='!':\n",
        "      stop=True\n",
        "      final+=inp[a]\n",
        "    elif inp[a]==' ' and stop==True:\n",
        "      change = True\n",
        "      stop = False\n",
        "      final+=inp[a]\n",
        "    elif change==True or (inp[a]=='i' and(inp[a-1]==' ' and inp[a+1]==' ')) or a==0:\n",
        "      change = False\n",
        "      final+=inp[a].upper()\n",
        "    else:\n",
        "      final+=inp[a]\n",
        "  return final\n",
        "print(correction(inp))\n",
        "#my favourite animal is a dog. a dog has sharp teeth so that it can eat flesh very easily. do you know my pet dog’s name? i love my pet very much."
      ],
      "metadata": {
        "colab": {
          "base_uri": "https://localhost:8080/"
        },
        "id": "LnH9RBa_DxLK",
        "outputId": "58efca90-3d00-4d30-f68b-10856210e094"
      },
      "execution_count": null,
      "outputs": [
        {
          "output_type": "stream",
          "name": "stdout",
          "text": [
            "my favourite animal is a dog. a dog has sharp teeth so that it can eat flesh very easily. do you know my pet dog’s name? they love my pet very much.\n",
            "My favourite animal is a dog. A dog has sharp teeth so that it can eat flesh very easily. Do you know my pet dog’s name? They love my pet very much.\n"
          ]
        }
      ]
    },
    {
      "cell_type": "code",
      "source": [
        "#Task 9 (alternative)(better i guess)\n",
        "inp = input()\n",
        "def correction(inp):\n",
        "  stop = False\n",
        "  final = ''\n",
        "  for a in range(len(inp)):\n",
        "    if inp[a]=='.' or inp[a]=='?' or inp[a]=='!':\n",
        "      stop=True\n",
        "      final+=inp[a]\n",
        "    elif inp[a]!=' ' and stop==True:\n",
        "      final+=inp[a].upper()\n",
        "      stop = False\n",
        "    elif (inp[a]=='i' and(inp[a-1]==' ' and inp[a+1]==' ')) or a==0:\n",
        "      #change = False\n",
        "      final+=inp[a].upper()\n",
        "    else:\n",
        "      final+=inp[a]\n",
        "  return final\n",
        "print(correction(inp))"
      ],
      "metadata": {
        "colab": {
          "base_uri": "https://localhost:8080/"
        },
        "id": "bYpiNWocPpEq",
        "outputId": "c8e20023-6091-454e-eb7d-f996e7addab7"
      },
      "execution_count": null,
      "outputs": [
        {
          "output_type": "stream",
          "name": "stdout",
          "text": [
            "my favourite animal is a dog. a dog has sharp teeth so that it can eat flesh very easily. do you know my pet dog’s name? they love my pet very much.\n",
            "My favourite animal is a dog. A dog has sharp teeth so that it can eat flesh very easily. Do you know my pet dog’s name? They love my pet very much.\n"
          ]
        }
      ]
    }
  ]
}