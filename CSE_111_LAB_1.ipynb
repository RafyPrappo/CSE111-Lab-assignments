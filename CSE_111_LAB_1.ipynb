{
  "nbformat": 4,
  "nbformat_minor": 0,
  "metadata": {
    "colab": {
      "provenance": []
    },
    "kernelspec": {
      "name": "python3",
      "display_name": "Python 3"
    },
    "language_info": {
      "name": "python"
    }
  },
  "cells": [
    {
      "cell_type": "markdown",
      "source": [
        "# String"
      ],
      "metadata": {
        "id": "yQNnqWEJnHYX"
      }
    },
    {
      "cell_type": "code",
      "source": [
        "#Task 1\n",
        "#cap = 64-91\n",
        "#smoll = 96-123\n",
        "given = 'BaNaNa'\n",
        "cp = 0\n",
        "sm = 0\n",
        "for a in given:\n",
        "  if 64<ord(a)<91:\n",
        "    cp += 1\n",
        "  elif 96<ord(a)<123:\n",
        "    sm += 1\n",
        "if cp>sm:\n",
        "  print(given.upper())\n",
        "else:\n",
        "  print(given.lower())"
      ],
      "metadata": {
        "id": "qS6KWOI0nNP0"
      },
      "execution_count": null,
      "outputs": []
    },
    {
      "cell_type": "code",
      "source": [
        "#Task 2\n",
        "number = False\n",
        "letter = False\n",
        "mix = False\n",
        "given = 'ksdfjl'\n",
        "\n",
        "for a in given:\n",
        "  if ord('0')<ord(a)<ord('9'):\n",
        "    number = True\n",
        "  elif ord('a')<ord(a)<ord('z') or ord('A')<ord(a)<ord('Z'):\n",
        "    letter = True\n",
        "  if number==True and letter==True:\n",
        "    mix = True\n",
        "    break\n",
        "if mix == True:\n",
        "  print('MIXED')\n",
        "elif number == True:\n",
        "  print('NUMBER')\n",
        "else:\n",
        "  print('WORD')"
      ],
      "metadata": {
        "colab": {
          "base_uri": "https://localhost:8080/"
        },
        "id": "6QqMDVakvrAz",
        "outputId": "3b91e603-1e4e-482a-8c6d-e2a85020762e"
      },
      "execution_count": null,
      "outputs": [
        {
          "output_type": "stream",
          "name": "stdout",
          "text": [
            "WORD\n"
          ]
        }
      ]
    },
    {
      "cell_type": "code",
      "source": [
        "#Task 3\n",
        "given = 'banglAdesH'\n",
        "count = 0\n",
        "lim = 0\n",
        "end = 0\n",
        "for a in given:\n",
        "  if 64<ord(a)<91 and lim!=1:\n",
        "    lim += 1\n",
        "    start = count + 1\n",
        "  elif 64<ord(a)<91 and lim==1:\n",
        "    lim += 1\n",
        "    end = count\n",
        "  if lim==2:\n",
        "    break\n",
        "  count+=1\n",
        "if end==0 or end==(start):\n",
        "  print('Blank')\n",
        "else:\n",
        "  print(given[start:end])"
      ],
      "metadata": {
        "colab": {
          "base_uri": "https://localhost:8080/"
        },
        "id": "oL0vVGQIywzS",
        "outputId": "00c65f44-2f8b-4d2c-b1d6-b46cbd8a19dd"
      },
      "execution_count": null,
      "outputs": [
        {
          "output_type": "stream",
          "name": "stdout",
          "text": [
            "des\n"
          ]
        }
      ]
    },
    {
      "cell_type": "code",
      "source": [
        "#Task 3 (Alternative)(incomplete)\n",
        "given = 'baNGladesh'\n",
        "strt = 's'\n",
        "end = 'f'\n",
        "for a in range(len(given)):\n",
        "  if 64<ord(given[a])<91:\n",
        "    strt= a+1\n",
        "    for b in range(a+1,len(given)):\n",
        "      if 64<ord(given[b])<91:\n",
        "        end = b\n",
        "if end!='f' and strt!=end:\n",
        "  print(given[strt:end])\n",
        "elif strt==end:\n",
        "  print('Blank')\n",
        "else:\n",
        "  print('BLANK')"
      ],
      "metadata": {
        "colab": {
          "base_uri": "https://localhost:8080/"
        },
        "id": "q11mL0iy8c_t",
        "outputId": "fc9f6922-81b4-40bf-e21a-997d21e87c9d"
      },
      "execution_count": null,
      "outputs": [
        {
          "output_type": "stream",
          "name": "stdout",
          "text": [
            "\n"
          ]
        }
      ]
    },
    {
      "cell_type": "code",
      "source": [
        "#Task 4(main)\n",
        "given = 'dean, tom'\n",
        "found = False\n",
        "a=''\n",
        "b=''\n",
        "for k in given:\n",
        "  if found==False:\n",
        "    if k!=',' and k!=' ':\n",
        "      a+=k\n",
        "    else:\n",
        "      found=True\n",
        "  elif found==True and (k!=',' and k!=' '):\n",
        "    b+=k\n",
        "str1 = ''\n",
        "for k in a:\n",
        "  if k in b:\n",
        "    str1+=k\n",
        "for k in b:\n",
        "  if k in a:\n",
        "    str1+=k\n",
        "if str1=='':\n",
        "  print('Nothing in common')\n",
        "else:\n",
        "  print(str1)"
      ],
      "metadata": {
        "colab": {
          "base_uri": "https://localhost:8080/"
        },
        "id": "Rdoo0de90IoM",
        "outputId": "5f812da7-5c39-4d7c-c19d-a46a4ae003bf"
      },
      "execution_count": null,
      "outputs": [
        {
          "output_type": "stream",
          "name": "stdout",
          "text": [
            "Nothing in common\n"
          ]
        }
      ]
    },
    {
      "cell_type": "code",
      "source": [
        "#Task 4(alternative)\n",
        "given = 'dean, tom'\n",
        "lst = given.split(', ')\n",
        "a,b = lst\n",
        "str1 = ''\n",
        "for k in a:\n",
        "  if k in b:\n",
        "    str1+=k\n",
        "for k in b:\n",
        "  if k in a:\n",
        "    str1+=k\n",
        "if str1=='':\n",
        "  print('Nothing in common')\n",
        "else:\n",
        "  print(str1)"
      ],
      "metadata": {
        "id": "fHV-GxSZFH65"
      },
      "execution_count": null,
      "outputs": []
    },
    {
      "cell_type": "code",
      "source": [
        "#Task 5(incomplete)(might try not using list or dictionary)\n",
        "capi = False\n",
        "sml = False\n",
        "num = False\n",
        "spec = False\n",
        "passw = input('Create Password: ')\n",
        "for a in passw:\n",
        "  if capi==True and sml==True and spec==True and num==True:\n",
        "    break\n",
        "  elif ord('a')<=ord(a)<=ord('z'):\n",
        "    sml = True\n",
        "  elif ord('A')<=ord(a)<=ord('Z'):\n",
        "    capi = True\n",
        "  elif ord('0')<=ord(a)<=ord('9'):\n",
        "    num = True\n",
        "  else:\n",
        "    spec = True\n",
        "final=''\n",
        "if capi==True and sml==True and spec==True and num==True:\n",
        "  print('OK')\n",
        "# else:\n",
        "#   first = True\n",
        "#   dic = {'Uppercase character':capi, 'Lowercase character':sml, 'Digit':num, 'Special character':spec}\n",
        "#   str1=''\n",
        "#   for k,v in dic.items():\n",
        "#     if v==False:\n",
        "#       str1+=(f'{k} missing, ')\n",
        "#   print(str1[0:len(str1)-2])\n",
        "else:\n",
        "  if capi==False:\n",
        "    final+='Uppercase character missing, '\n",
        "  if sml==False:\n",
        "    final+='Lowercase character missing, '\n",
        "  if num==False:\n",
        "    final+='Digit missing, '\n",
        "  if spec==False:\n",
        "    final+='Special character missing, '\n",
        "  #if final[len(final)-2:len(final)]==', ':\n",
        "  print(final[0:len(final)-2]+'.')"
      ],
      "metadata": {
        "id": "375nbs5h1Mlo",
        "colab": {
          "base_uri": "https://localhost:8080/"
        },
        "outputId": "865c9e48-0d33-449b-9a5f-a3f7ea6cb67a"
      },
      "execution_count": null,
      "outputs": [
        {
          "output_type": "stream",
          "name": "stdout",
          "text": [
            "Create Password: @dhH1\n",
            "OK\n"
          ]
        }
      ]
    },
    {
      "cell_type": "markdown",
      "source": [
        "# List"
      ],
      "metadata": {
        "id": "uKLyKhfKS-F_"
      }
    },
    {
      "cell_type": "code",
      "source": [
        "#Task 1\n",
        "lst = []\n",
        "while True:\n",
        "  inp = input()\n",
        "  if inp.lower()!='stop':\n",
        "    lst.append(int(inp))\n",
        "  else:\n",
        "    break\n",
        "lst2=[]\n",
        "for a in lst:\n",
        "  count = 0\n",
        "  if a not in lst2:\n",
        "    for b in lst:\n",
        "      if b==a:\n",
        "        count+=1\n",
        "    lst2.append(a)\n",
        "    print(f'{a} - {count} times')"
      ],
      "metadata": {
        "id": "thpL0NJdTBdM"
      },
      "execution_count": null,
      "outputs": []
    },
    {
      "cell_type": "code",
      "source": [
        "#Task 2\n",
        "inp = int(input())\n",
        "inp2 = input()\n",
        "ini_lst = []\n",
        "for a in inp2:\n",
        "  if a!=' ':\n",
        "    ini_lst.append(int(a))\n",
        "sum = 0\n",
        "for a in ini_lst:\n",
        "  sum+=a\n",
        "max_val = sum\n",
        "max_lst = ini_lst\n",
        "for a in range(inp-1):\n",
        "  inpt = input()\n",
        "  lst = []\n",
        "  sum = 0\n",
        "  str1 = ''\n",
        "  for a in inpt:\n",
        "    if a!=' ':\n",
        "      str1+=a\n",
        "    else:\n",
        "      lst.append(int(str1))\n",
        "      sum+=int(str1)\n",
        "      str1 = ''\n",
        "  lst.append(int(str1))\n",
        "  sum+=int(str1)\n",
        "  if sum>max_val:\n",
        "    max_val = sum\n",
        "    max_lst = lst\n",
        "print(max_val)\n",
        "print(max_lst)"
      ],
      "metadata": {
        "colab": {
          "base_uri": "https://localhost:8080/"
        },
        "id": "N5Lk_F6Lal_d",
        "outputId": "6939a9ca-4fc5-4808-e456-3f4f822c63e1"
      },
      "execution_count": null,
      "outputs": [
        {
          "output_type": "stream",
          "name": "stdout",
          "text": [
            "4\n",
            "1 2 3\n",
            "10 11 12\n",
            "7 8 9\n",
            "4 5 6\n",
            "33\n",
            "[10, 11, 12]\n"
          ]
        }
      ]
    },
    {
      "cell_type": "code",
      "source": [
        "#Task 3\n",
        "lst1 = input().split(' ')\n",
        "lst2 = input().split(' ')\n",
        "for a in range (len(lst1)):\n",
        "  lst1[a]=int(lst1[a])\n",
        "for a in range (len(lst2)):\n",
        "  lst2[a]=int(lst2[a])\n",
        "final = []\n",
        "for a in lst1:\n",
        "  for b in lst2:\n",
        "    final.append(a*b)\n",
        "print(final)"
      ],
      "metadata": {
        "colab": {
          "base_uri": "https://localhost:8080/"
        },
        "id": "7cVDIMqC2wqw",
        "outputId": "9d5453fc-43e2-4234-d989-b4f99b1b4690"
      },
      "execution_count": null,
      "outputs": [
        {
          "output_type": "stream",
          "name": "stdout",
          "text": [
            "2 3 6\n",
            "3 4 5\n",
            "[6, 8, 10, 9, 12, 15, 18, 24, 30]\n"
          ]
        }
      ]
    },
    {
      "cell_type": "code",
      "source": [
        "#Task 4(incomplete)\n",
        "lst = []\n",
        "output=[]\n",
        "brk=1\n",
        "while brk!=2:\n",
        "  while True:\n",
        "    inp = input()\n",
        "    if inp.lower()!='stop':\n",
        "      lst.append(int(inp))\n",
        "    else:\n",
        "      brk=2\n",
        "      break\n",
        "  sec = 1\n",
        "  new_lst = []\n",
        "  for a in lst:\n",
        "    dif = abs(a-lst[sec])\n",
        "    sec+=1\n",
        "    new_lst.append(dif)\n",
        "    if sec==len(lst):\n",
        "      break\n",
        "  jumper = True\n",
        "  for a in new_lst:\n",
        "    if 1<=a<=len(lst)-1:\n",
        "      jumper=True\n",
        "    else:\n",
        "      jumper = False\n",
        "  if jumper == True:\n",
        "    output.append('UB Jumper')\n",
        "  else:\n",
        "    output.append('Not UB Jumper')\n",
        "for a in output:\n",
        "  print(a)"
      ],
      "metadata": {
        "id": "44Gr7MU-Wuqv"
      },
      "execution_count": null,
      "outputs": []
    },
    {
      "cell_type": "code",
      "source": [
        "#Task 4 (complete)\n",
        "while True:\n",
        "  inp = input().lower().split(' ')\n",
        "  if 'stop' in inp:\n",
        "    break\n",
        "  lst = []\n",
        "  dif = []\n",
        "  for a in inp:\n",
        "    lst.append(int(a))\n",
        "  sec = 1\n",
        "  for a in range(len(lst)):\n",
        "    dif.append(abs(lst[a]-lst[sec]))\n",
        "    sec+=1\n",
        "    if sec==len(lst):\n",
        "      break\n",
        "  for a in dif:\n",
        "    if 1<=a<=len(lst):\n",
        "      jumper = True\n",
        "    else:\n",
        "      jumper = False\n",
        "      break\n",
        "  if jumper == True:\n",
        "    print('UB Jumper')\n",
        "  else:\n",
        "    print('Not UB Jumper')"
      ],
      "metadata": {
        "colab": {
          "base_uri": "https://localhost:8080/"
        },
        "id": "YgRkSnYGH62V",
        "outputId": "18989923-871b-444b-feb6-4efcaeb94df3"
      },
      "execution_count": null,
      "outputs": [
        {
          "name": "stdout",
          "output_type": "stream",
          "text": [
            "1 4 2 3\n",
            "UB Jumper\n",
            "stop\n"
          ]
        }
      ]
    },
    {
      "cell_type": "code",
      "source": [
        "#Task 4\n",
        "lst = []\n",
        "while True:\n",
        "  inp = input()\n",
        "  if inp.lower()!='stop':\n",
        "    lst.append(int(inp))\n",
        "  else:\n",
        "    break\n",
        "sec = 1\n",
        "new_lst = []\n",
        "for a in lst:\n",
        "  dif = abs(a-lst[sec])\n",
        "  sec+=1\n",
        "  new_lst.append(dif)\n",
        "  if sec==len(lst):\n",
        "    break\n",
        "jumper = True\n",
        "for a in new_lst:\n",
        "  if 1<=a<=len(lst)-1:\n",
        "    jumper=True\n",
        "  else:\n",
        "    jumper = False\n",
        "if jumper == True:\n",
        "  print('UB Jumper')\n",
        "else:\n",
        "  print('Not UB Jumper')"
      ],
      "metadata": {
        "colab": {
          "base_uri": "https://localhost:8080/"
        },
        "id": "mS31-Am9Hrmr",
        "outputId": "0c0772c6-aa18-4318-8685-6971c35ecd59"
      },
      "execution_count": null,
      "outputs": [
        {
          "output_type": "stream",
          "name": "stdout",
          "text": [
            "1\n",
            "4\n",
            "2\n",
            "-1\n",
            "6\n",
            "stop\n",
            "Not UBJumper\n"
          ]
        }
      ]
    },
    {
      "cell_type": "code",
      "source": [
        "#Task 5\n",
        "lst1 = []\n",
        "lst2 = []\n",
        "count = 0\n",
        "inp1 = input().split(' ')\n",
        "for a in inp1:\n",
        "  lst1.append(int(a))\n",
        "inp2 = input().split(' ')\n",
        "for a in inp2:\n",
        "  lst2.append(int(a))\n",
        "for a in lst2:\n",
        "  if (5-a)>=(lst1[1]):\n",
        "    count+=1\n",
        "print(count//3)"
      ],
      "metadata": {
        "id": "VoI8pg2fO7rA",
        "colab": {
          "base_uri": "https://localhost:8080/"
        },
        "outputId": "07549c0b-49f2-4e2c-a6d5-93d67ce8e958"
      },
      "execution_count": null,
      "outputs": [
        {
          "output_type": "stream",
          "name": "stdout",
          "text": [
            "5 2\n",
            "0 4 5 1 0\n",
            "1\n"
          ]
        }
      ]
    },
    {
      "cell_type": "code",
      "source": [
        "#Task 5(alternative)\n",
        "lst1 = []\n",
        "lst2 = []\n",
        "inp1 = input().split(' ')\n",
        "count = 0\n",
        "for a in inp1:\n",
        "  lst1.append(int(a))\n",
        "for a in range(lst1[0]):\n",
        "  inp2 = int(input())\n",
        "  lst2.append(inp2)\n",
        "for a in lst2:\n",
        "  if (5-a)>=(lst1[1]):\n",
        "    count+=1\n",
        "print(count//3)"
      ],
      "metadata": {
        "colab": {
          "base_uri": "https://localhost:8080/"
        },
        "id": "UeT4oyV-61h4",
        "outputId": "89a9e340-1083-4750-8f02-6b5bf3929847"
      },
      "execution_count": null,
      "outputs": [
        {
          "output_type": "stream",
          "name": "stdout",
          "text": [
            "5 2\n",
            "0\n",
            "4\n",
            "5\n",
            "1\n",
            "0\n",
            "[5, 2] [0, 4, 5, 1, 0]\n",
            "1\n"
          ]
        }
      ]
    },
    {
      "cell_type": "markdown",
      "source": [
        "# Tuple & Dictionary"
      ],
      "metadata": {
        "id": "cDqmxk9EPNBn"
      }
    },
    {
      "cell_type": "code",
      "source": [
        "#Task 1\n",
        "dic1 = {'a': 100, 'b': 100, 'c': 200, 'd': 300}\n",
        "dic2 = {'a': 300, 'b': 200, 'd': 400, 'e': 200}\n",
        "lst = []\n",
        "for k,v in dic1.items():\n",
        "  if k in dic2:\n",
        "    dic1[k]=v+(dic2[k])\n",
        "for k,v in dic2.items():\n",
        "  if k not in dic1:\n",
        "    dic1[k]=v\n",
        "print(dic1)\n",
        "for k,v in dic1.items():\n",
        "  if v not in lst:\n",
        "    lst.append(v)\n",
        "lst.sort()\n",
        "print(f'Values: {tuple(lst)}')"
      ],
      "metadata": {
        "colab": {
          "base_uri": "https://localhost:8080/"
        },
        "id": "Dvq5lu_MPSHQ",
        "outputId": "ac24ed74-b680-4024-ac79-a1379a22af24"
      },
      "execution_count": null,
      "outputs": [
        {
          "output_type": "stream",
          "name": "stdout",
          "text": [
            "{'a': 400, 'b': 300, 'c': 200, 'd': 700, 'e': 200}\n",
            "Values: (200, 300, 400, 700)\n"
          ]
        }
      ]
    },
    {
      "cell_type": "code",
      "source": [
        "#Task2\n",
        "dic = {}\n",
        "lst = []\n",
        "while True:\n",
        "  inp = input()\n",
        "  if inp.lower()=='stop':\n",
        "    break\n",
        "  if int(inp) not in lst:\n",
        "    dic[inp]=1\n",
        "    lst.append(int(inp))\n",
        "  else:\n",
        "    dic[inp]=(dic[inp]+1)\n",
        "for k,v in dic.items():\n",
        "  print(f'{k} - {v} times')"
      ],
      "metadata": {
        "colab": {
          "base_uri": "https://localhost:8080/"
        },
        "id": "RCnsJh44QuJj",
        "outputId": "a8999c53-42af-49d6-857f-dcd87fec9865"
      },
      "execution_count": null,
      "outputs": [
        {
          "output_type": "stream",
          "name": "stdout",
          "text": [
            "10\n",
            "20\n",
            "20\n",
            "30\n",
            "10\n",
            "50\n",
            "90\n",
            "stop\n",
            "10 - 2 times\n",
            "20 - 2 times\n",
            "30 - 1 times\n",
            "50 - 1 times\n",
            "90 - 1 times\n"
          ]
        }
      ]
    },
    {
      "cell_type": "code",
      "source": [
        "#Task 3\n",
        "#inp = 'key1 : value1, key2 : value2, key3 : value1, key4: value2, key5: value6'\n",
        "inp=input().split(',')\n",
        "lst=[]\n",
        "lst2=[]\n",
        "for a in inp:\n",
        "  k=a.split(':')\n",
        "  for g in k:\n",
        "    lst2.append(g.strip())\n",
        "  lst.append(lst2)\n",
        "count=1\n",
        "dic = {}\n",
        "for a in lst2:\n",
        "  if count%2!=0:\n",
        "    k = a\n",
        "  else:\n",
        "    dic[k]=a\n",
        "  count+=1\n",
        "dic2={}\n",
        "lst = []\n",
        "for k,v in dic.items():\n",
        "  lst.append(k)\n",
        "  for a,d in dic.items():\n",
        "    if a not in lst and v==d:\n",
        "      lst.append(a)\n",
        "  dic2[v]=lst\n",
        "  lst=[]\n",
        "print(dic2)"
      ],
      "metadata": {
        "colab": {
          "base_uri": "https://localhost:8080/"
        },
        "id": "33s04dBXUTYt",
        "outputId": "a2ede906-c119-44ee-d16e-aea5198c116f"
      },
      "execution_count": null,
      "outputs": [
        {
          "output_type": "stream",
          "name": "stdout",
          "text": [
            "key1 : value1, key2 : value2, key3 : value1, key4: value2, key5: value6\n",
            "{'value1': ['key3', 'key1'], 'value2': ['key4', 'key2'], 'value6': ['key5']}\n"
          ]
        }
      ]
    },
    {
      "cell_type": "code",
      "source": [
        "#Task 4 (Tuple Version)\n",
        "one,two,three,four,five,six,seven,eight,nine,zero=(1,'.,?!:'),(2,'ABC'),(3,'DEF'),(4,'GHI'),(5,'JKL'),(6,'MNO'),(7,'PQRS'),(8,'TUV'),(9,'WXYZ'),(0,' ')\n",
        "lst = [one,two,three,four,five,six,seven,eight,nine,zero]\n",
        "inp = input().upper()\n",
        "str1 = ''\n",
        "for a in inp:\n",
        "  for b in lst:\n",
        "    if a in b[1]:\n",
        "      for c in b[1]:\n",
        "        if a!=c:\n",
        "          str1+=str(b[0])\n",
        "        else:\n",
        "          str1+=str(b[0])\n",
        "          break\n",
        "print(str1)\n",
        "#4433555555666110966677755531111\n",
        "#4433555555666110966677755531111\n",
        "#Hello, World!"
      ],
      "metadata": {
        "colab": {
          "base_uri": "https://localhost:8080/"
        },
        "id": "g98NcCmqpkKv",
        "outputId": "a3d27a0a-4978-427e-81b3-32db82260cda"
      },
      "execution_count": null,
      "outputs": [
        {
          "output_type": "stream",
          "name": "stdout",
          "text": [
            "Hello, World!\n",
            "4433555555666110966677755531111\n"
          ]
        }
      ]
    },
    {
      "cell_type": "code",
      "source": [
        "#Task 4 (Dictionary Version)\n",
        "keypad = {'1':'.,?!:', '2':'ABC','3':'DEF','4':'GHI','5':'JKL','6':'MNO','7':'PQRS','8':'TUV','9':'WXYZ','0':' '}\n",
        "inp = input().upper()\n",
        "keys=''\n",
        "for a in inp:\n",
        "  for k,v in keypad.items():\n",
        "    if a in v:\n",
        "      for b in v:\n",
        "        if a!=b:\n",
        "          keys+=k\n",
        "        else:\n",
        "          keys+=k\n",
        "          break\n",
        "print(keys)"
      ],
      "metadata": {
        "colab": {
          "base_uri": "https://localhost:8080/"
        },
        "id": "D6K-FlJ341Xn",
        "outputId": "7a63149d-ed1e-4601-bd63-7ddb027b332b"
      },
      "execution_count": null,
      "outputs": [
        {
          "output_type": "stream",
          "name": "stdout",
          "text": [
            "Hello, World!\n",
            "4433555555666110966677755531111\n"
          ]
        }
      ]
    },
    {
      "cell_type": "markdown",
      "source": [
        "# Function"
      ],
      "metadata": {
        "id": "oORTb-qi626t"
      }
    },
    {
      "cell_type": "code",
      "source": [
        "#Task 1(What to do with the digits after .!!!)\n",
        "def amikenomota(height,weight):\n",
        "  h = height/100\n",
        "  bmi = (weight)/((h)**2)\n",
        "#   #< 18.5- Underweight\n",
        "# ● 18.5 - 24.9 - Normal\n",
        "# ● 25 -30 - Overweight\n",
        "# ● > 30 – Obese\n",
        "  if bmi<18.5:\n",
        "    k = 'Underweight'\n",
        "  elif  18.5<bmi<24.9:\n",
        "    k = 'Normal'\n",
        "  else:\n",
        "    k = 'Obese'\n",
        "  print(f'Score is {bmi}. You are {k}')\n",
        "inp1 = int(input('Input height: '))\n",
        "inp2 = int(input('Input weight: '))\n",
        "amikenomota(height=inp1,weight=inp2)"
      ],
      "metadata": {
        "colab": {
          "base_uri": "https://localhost:8080/"
        },
        "id": "TTMT6Vz-67lh",
        "outputId": "d0036493-3090-4a52-e24f-50ff2aeeb340"
      },
      "execution_count": null,
      "outputs": [
        {
          "output_type": "stream",
          "name": "stdout",
          "text": [
            "Input height: 175\n",
            "Input weight: 96\n",
            "Score is 31.346938775510203, You are Obese\n"
          ]
        }
      ]
    },
    {
      "cell_type": "code",
      "source": [
        "#Task 2\n"
      ],
      "metadata": {
        "id": "FywKlRdJ_TRK"
      },
      "execution_count": null,
      "outputs": []
    }
  ]
}